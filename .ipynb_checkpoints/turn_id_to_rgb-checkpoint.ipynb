{
 "cells": [
  {
   "cell_type": "code",
   "execution_count": 2,
   "metadata": {
    "collapsed": true
   },
   "outputs": [],
   "source": [
    "import os\n",
    "import numpy as np\n",
    "from scipy import misc\n",
    "import sys\n",
    "from random import shuffle\n",
    "from random import uniform\n",
    "import zipfile\n",
    "from collections import OrderedDict\n",
    "import glob\n",
    "import time\n",
    "from PIL import Image\n",
    "from moviepy.editor import VideoFileClip\n",
    "from tqdm import tqdm\n",
    "\n",
    "%matplotlib inline\n",
    "import matplotlib.pyplot as plt"
   ]
  },
  {
   "cell_type": "code",
   "execution_count": 3,
   "metadata": {
    "collapsed": true
   },
   "outputs": [],
   "source": [
    "gt_train_path = '/data2/cityscapes_dataset/gtFine/train'\n",
    "imgs_train_path = '/data2/cityscapes_dataset/leftImg8bit/train'\n",
    "gt_val_path = '/data2/cityscapes_dataset/gtFine/val'\n",
    "imgs_val_path = '/data2/cityscapes_dataset/leftImg8bit/val'\n",
    "gt_test_path = '/data2/cityscapes_dataset/gtFine/test'\n",
    "imgs_test_path = '/data2/cityscapes_dataset/leftImg8bit/test'"
   ]
  },
  {
   "cell_type": "code",
   "execution_count": 4,
   "metadata": {
    "collapsed": true
   },
   "outputs": [],
   "source": [
    "# Get training data filenames\n",
    "def get_files(imgs_dir, gt_dir):\n",
    "    \n",
    "    cities = os.listdir(imgs_dir)\n",
    "    gt = []\n",
    "    imgs = []\n",
    "    for city in cities:\n",
    "        new_gt_path = os.path.join(gt_dir, city)\n",
    "        new_imgs_path = os.path.join(imgs_dir, city)\n",
    "        gt += glob.glob(os.path.join(new_gt_path, \"*labelIds.png\"))\n",
    "        imgs += glob.glob(os.path.join(new_imgs_path, \"*.png\"))\n",
    "    imgs.sort()\n",
    "    gt.sort()\n",
    "    return imgs, gt"
   ]
  },
  {
   "cell_type": "code",
   "execution_count": 5,
   "metadata": {
    "collapsed": true
   },
   "outputs": [],
   "source": [
    "train_imgs, train_gt = get_files(imgs_train_path, gt_train_path)\n",
    "val_imgs, val_gt = get_files(imgs_val_path, gt_val_path)\n",
    "test_imgs, test_gt = get_files(imgs_test_path, gt_test_path)"
   ]
  },
  {
   "cell_type": "code",
   "execution_count": 6,
   "metadata": {
    "collapsed": true
   },
   "outputs": [],
   "source": [
    "def plot_image(image_path=None, img=None, from_path=True):\n",
    "    if (from_path == True):\n",
    "        img = misc.imread(image_path)\n",
    "    if len(img.shape) == 4:\n",
    "        img = np.squeeze(img)\n",
    "    if img.dtype != np.uint8:\n",
    "        img = img.astype(np.uint8)\n",
    "    plt.imshow(img)\n",
    "    plt.show()"
   ]
  },
  {
   "cell_type": "code",
   "execution_count": 7,
   "metadata": {
    "collapsed": true
   },
   "outputs": [],
   "source": [
    "# num_classes = 20, 19 objects classes plus one background glass\n",
    "\n",
    "def prepare_ground_truth(img):\n",
    "    \n",
    "    # Five classes: road, side_walk, pedestrian, vehicles, others\n",
    "    NUM_CLASSES = 20\n",
    "    new_image = np.zeros((img.shape[0], img.shape[1], NUM_CLASSES))\n",
    "    \n",
    "    # (original_id)\n",
    "    # road\n",
    "    road_mask = img == 7\n",
    "    # sidewalk \n",
    "    sidewalk_mask = img == 8\n",
    "    \n",
    "    building_mask = img == 11\n",
    "    wall_mask = img == 12\n",
    "    fence_mask = img == 13\n",
    "    pole_mask = img == 17\n",
    "    traffic_light_mask = img == 19\n",
    "    traffic_sign_mask = img == 20\n",
    "    vegetation_mask = img == 21\n",
    "    terrain_mask = img == 22\n",
    "    sky_mask = img == 23\n",
    "    person_mask = img == 24\n",
    "    rider_mask = img == 25\n",
    "    car_mask = img == 26\n",
    "    truck_mask = img == 27\n",
    "    bus_mask = img == 28\n",
    "    train_mask = img == 31\n",
    "    motorcycle_mask = img == 32\n",
    "    bicycle_mask = img == 33\n",
    "    \n",
    "    # everything else\n",
    "    else_mask = np.logical_not(np.logical_or.reduce((road_mask, sidewalk_mask, building_mask, wall_mask,\n",
    "                                                     fence_mask, pole_mask, traffic_light_mask, traffic_sign_mask,\n",
    "                                                     vegetation_mask, terrain_mask, sky_mask, person_mask,\n",
    "                                                     rider_mask, car_mask, truck_mask, bus_mask,\n",
    "                                                     train_mask, motorcycle_mask, bicycle_mask)))\n",
    "\n",
    "\n",
    "    new_image[:,:,0] = road_mask\n",
    "    new_image[:,:,1] = sidewalk_mask\n",
    "    new_image[:,:,2] = building_mask\n",
    "    new_image[:,:,3] = wall_mask\n",
    "    new_image[:,:,4] = fence_mask\n",
    "    new_image[:,:,5] = pole_mask\n",
    "    new_image[:,:,6] = traffic_light_mask\n",
    "    new_image[:,:,7] = traffic_sign_mask\n",
    "    new_image[:,:,8] = vegetation_mask\n",
    "    new_image[:,:,9] = terrain_mask\n",
    "    new_image[:,:,10] = sky_mask\n",
    "    new_image[:,:,11] = person_mask\n",
    "    new_image[:,:,12] = rider_mask\n",
    "    new_image[:,:,13] = car_mask\n",
    "    new_image[:,:,14] = truck_mask\n",
    "    new_image[:,:,15] = bus_mask\n",
    "    new_image[:,:,16] = train_mask\n",
    "    new_image[:,:,17] = motorcycle_mask\n",
    "    new_image[:,:,18] = bicycle_mask\n",
    "    new_image[:,:,19] = else_mask\n",
    "    \n",
    "    return new_image.astype(np.float32)\n"
   ]
  },
  {
   "cell_type": "code",
   "execution_count": 8,
   "metadata": {
    "collapsed": true
   },
   "outputs": [],
   "source": [
    "def get_data(batch_size=1, num_classes=20, mode='train', imgs=train_imgs, gt=train_gt, im_size=500, no_crop=False):\n",
    "    \n",
    "    # Expects sorted lists of training images and ground truth as\n",
    "    # 'data' and 'labels'\n",
    "    if (mode == 'val'):\n",
    "        imgs = val_imgs\n",
    "        gt = val_gt\n",
    "    elif (mode == 'test'):\n",
    "        imgs = test_imgs\n",
    "        gt = test_gt\n",
    "    \n",
    "    # get shape from any image\n",
    "    shape_im = misc.imread(random_im_path)\n",
    "    \n",
    "    # Shuffle dataset\n",
    "    if mode=='train':\n",
    "        combined = list(zip(imgs, gt))\n",
    "        shuffle(combined)\n",
    "        imgs[:], gt[:] = zip(*combined)\n",
    "    \n",
    "    while(True):\n",
    "        for i in range(0,len(imgs),batch_size):\n",
    "            if (no_crop):\n",
    "                images = np.empty((batch_size, shape_im.shape[0], shape_im.shape[1], shape_im.shape[2]))\n",
    "                labels = np.empty((batch_size, shape_im.shape[0], shape_im.shape[1], num_classes))\n",
    "                for j, img in enumerate(imgs[i:i+batch_size]):\n",
    "                    train_im = misc.imread(img).astype(np.float32)\n",
    "                    images[j,:,:,:] = train_im\n",
    "                    gt_im = misc.imread(gt[i+j])\n",
    "                    labels[j,:,:,:] = prepare_ground_truth(gt_im)                   \n",
    "            else:\n",
    "                images = np.empty((batch_size, im_size, im_size, shape_im.shape[2]))\n",
    "                labels = np.empty((batch_size, im_size, im_size, num_classes))\n",
    "                for j, img in enumerate(imgs[i:i+batch_size]):\n",
    "                    # Crop the size we want from a random spot in the image (as a form of\n",
    "                    # minor data augmentation)\n",
    "                    new_start_row = np.random.randint(0, shape_im.shape[0] - im_size)\n",
    "                    new_start_col = np.random.randint(0, shape_im.shape[1] - im_size)\n",
    "                    train_im = misc.imread(img).astype(np.float32)\n",
    "\n",
    "                    train_im = train_im[new_start_row:new_start_row+im_size, new_start_col:new_start_col+im_size]\n",
    "                    images[j,:,:,:] = train_im\n",
    "\n",
    "                    gt_im = misc.imread(gt[i+j])\n",
    "                    gt_im = gt_im[new_start_row:new_start_row+im_size, new_start_col:new_start_col+im_size]\n",
    "                    labels[j,:,:,:] = prepare_ground_truth(gt_im)\n",
    "            \n",
    "            yield(images,labels)\n",
    "            "
   ]
  },
  {
   "cell_type": "code",
   "execution_count": null,
   "metadata": {
    "collapsed": true
   },
   "outputs": [],
   "source": [
    "val_gen_data = get_data(batch_size=1, num_classes=20, mode='val', imgs=val_imgs, gt=val_gt, im_size=500, no_crop=True)"
   ]
  }
 ],
 "metadata": {
  "kernelspec": {
   "display_name": "Python 3",
   "language": "python",
   "name": "python3"
  },
  "language_info": {
   "codemirror_mode": {
    "name": "ipython",
    "version": 3
   },
   "file_extension": ".py",
   "mimetype": "text/x-python",
   "name": "python",
   "nbconvert_exporter": "python",
   "pygments_lexer": "ipython3",
   "version": "3.5.2"
  },
  "widgets": {
   "state": {},
   "version": "1.1.2"
  }
 },
 "nbformat": 4,
 "nbformat_minor": 2
}
